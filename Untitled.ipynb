{
 "cells": [
  {
   "cell_type": "code",
   "execution_count": 4,
   "id": "5965b2e2-2479-49f2-86c3-0ae149e303ec",
   "metadata": {
    "execution": {
     "iopub.execute_input": "2023-09-28T08:46:03.560048Z",
     "iopub.status.busy": "2023-09-28T08:46:03.560048Z",
     "iopub.status.idle": "2023-09-28T08:46:03.742554Z",
     "shell.execute_reply": "2023-09-28T08:46:03.742554Z",
     "shell.execute_reply.started": "2023-09-28T08:46:03.560048Z"
    },
    "tags": []
   },
   "outputs": [
    {
     "ename": "ImportError",
     "evalue": "cannot import name 'RRef' from 'torch.distributed.rpc' (C:\\Users\\psy62\\.conda\\envs\\Torch_180\\lib\\site-packages\\torch\\distributed\\rpc\\__init__.py)",
     "output_type": "error",
     "traceback": [
      "\u001b[1;31m---------------------------------------------------------------------------\u001b[0m",
      "\u001b[1;31mImportError\u001b[0m                               Traceback (most recent call last)",
      "File \u001b[1;32m~\\MultiDomainCDR\\MITrans_gpu_1.py:30\u001b[0m\n\u001b[0;32m     28\u001b[0m \u001b[38;5;28;01mimport\u001b[39;00m \u001b[38;5;21;01mtorch\u001b[39;00m\u001b[38;5;21;01m.\u001b[39;00m\u001b[38;5;21;01mnn\u001b[39;00m\u001b[38;5;21;01m.\u001b[39;00m\u001b[38;5;21;01mfunctional\u001b[39;00m \u001b[38;5;28;01mas\u001b[39;00m \u001b[38;5;21;01mF\u001b[39;00m\n\u001b[0;32m     29\u001b[0m \u001b[38;5;28;01mfrom\u001b[39;00m \u001b[38;5;21;01mtorch\u001b[39;00m \u001b[38;5;28;01mimport\u001b[39;00m optim\n\u001b[1;32m---> 30\u001b[0m \u001b[38;5;28;01mfrom\u001b[39;00m \u001b[38;5;21;01mtorch\u001b[39;00m\u001b[38;5;21;01m.\u001b[39;00m\u001b[38;5;21;01mdistributed\u001b[39;00m\u001b[38;5;21;01m.\u001b[39;00m\u001b[38;5;21;01moptim\u001b[39;00m \u001b[38;5;28;01mimport\u001b[39;00m DistributedOptimizer\n\u001b[0;32m     31\u001b[0m \u001b[38;5;28;01mfrom\u001b[39;00m \u001b[38;5;21;01mtorchvision\u001b[39;00m \u001b[38;5;28;01mimport\u001b[39;00m datasets, transforms\n\u001b[0;32m     32\u001b[0m \u001b[38;5;28;01mfrom\u001b[39;00m \u001b[38;5;21;01mtorch\u001b[39;00m\u001b[38;5;21;01m.\u001b[39;00m\u001b[38;5;21;01mdistributed\u001b[39;00m\u001b[38;5;21;01m.\u001b[39;00m\u001b[38;5;21;01mrpc\u001b[39;00m \u001b[38;5;28;01mimport\u001b[39;00m RRef, rpc_async, remote\n",
      "File \u001b[1;32m~\\.conda\\envs\\Torch_180\\lib\\site-packages\\torch\\distributed\\optim\\__init__.py:8\u001b[0m\n\u001b[0;32m      1\u001b[0m \u001b[38;5;124;03m\"\"\"\u001b[39;00m\n\u001b[0;32m      2\u001b[0m \u001b[38;5;124;03m:mod:`torch.distributed.optim` exposes DistributedOptimizer, which takes a list\u001b[39;00m\n\u001b[0;32m      3\u001b[0m \u001b[38;5;124;03mof remote parameters (:class:`~torch.distributed.rpc.RRef`) and runs the\u001b[39;00m\n\u001b[1;32m   (...)\u001b[0m\n\u001b[0;32m      6\u001b[0m \u001b[38;5;124;03mapply the gradients on each worker.\u001b[39;00m\n\u001b[0;32m      7\u001b[0m \u001b[38;5;124;03m\"\"\"\u001b[39;00m\n\u001b[1;32m----> 8\u001b[0m \u001b[38;5;28;01mfrom\u001b[39;00m \u001b[38;5;21;01m.\u001b[39;00m\u001b[38;5;21;01moptimizer\u001b[39;00m \u001b[38;5;28;01mimport\u001b[39;00m DistributedOptimizer\n\u001b[0;32m      9\u001b[0m \u001b[38;5;28;01mfrom\u001b[39;00m \u001b[38;5;21;01m.\u001b[39;00m\u001b[38;5;21;01mzero_redundancy_optimizer\u001b[39;00m \u001b[38;5;28;01mimport\u001b[39;00m ZeroRedundancyOptimizer\n",
      "File \u001b[1;32m~\\.conda\\envs\\Torch_180\\lib\\site-packages\\torch\\distributed\\optim\\optimizer.py:9\u001b[0m\n\u001b[0;32m      7\u001b[0m \u001b[38;5;28;01mimport\u001b[39;00m \u001b[38;5;21;01mtorch\u001b[39;00m\u001b[38;5;21;01m.\u001b[39;00m\u001b[38;5;21;01mnn\u001b[39;00m \u001b[38;5;28;01mas\u001b[39;00m \u001b[38;5;21;01mnn\u001b[39;00m\n\u001b[0;32m      8\u001b[0m \u001b[38;5;28;01mfrom\u001b[39;00m \u001b[38;5;21;01mtorch\u001b[39;00m \u001b[38;5;28;01mimport\u001b[39;00m Tensor\n\u001b[1;32m----> 9\u001b[0m \u001b[38;5;28;01mfrom\u001b[39;00m \u001b[38;5;21;01mtorch\u001b[39;00m\u001b[38;5;21;01m.\u001b[39;00m\u001b[38;5;21;01mdistributed\u001b[39;00m\u001b[38;5;21;01m.\u001b[39;00m\u001b[38;5;21;01mrpc\u001b[39;00m \u001b[38;5;28;01mimport\u001b[39;00m RRef\n\u001b[0;32m     10\u001b[0m \u001b[38;5;28;01mfrom\u001b[39;00m \u001b[38;5;21;01m.\u001b[39;00m\u001b[38;5;21;01mfunctional_adagrad\u001b[39;00m \u001b[38;5;28;01mimport\u001b[39;00m _FunctionalAdagrad\n\u001b[0;32m     11\u001b[0m \u001b[38;5;28;01mfrom\u001b[39;00m \u001b[38;5;21;01m.\u001b[39;00m\u001b[38;5;21;01mfunctional_adam\u001b[39;00m \u001b[38;5;28;01mimport\u001b[39;00m _FunctionalAdam\n",
      "\u001b[1;31mImportError\u001b[0m: cannot import name 'RRef' from 'torch.distributed.rpc' (C:\\Users\\psy62\\.conda\\envs\\Torch_180\\lib\\site-packages\\torch\\distributed\\rpc\\__init__.py)"
     ]
    }
   ],
   "source": [
    "%run MITrans_gpu_1.py \\\n",
    "--WORLD_SIZE=5 \\\n",
    "--local_rank=$1 \\\n",
    "--MASTER_ADDR=192.168.1.218 \\\n",
    "--MASTER_PORT=29500"
   ]
  },
  {
   "cell_type": "code",
   "execution_count": 1,
   "id": "0edd8c5e-1546-4008-a693-569cd4840dc5",
   "metadata": {
    "execution": {
     "iopub.execute_input": "2023-09-28T08:58:17.577407Z",
     "iopub.status.busy": "2023-09-28T08:58:17.577407Z",
     "iopub.status.idle": "2023-09-28T08:58:20.230156Z",
     "shell.execute_reply": "2023-09-28T08:58:20.229315Z",
     "shell.execute_reply.started": "2023-09-28T08:58:17.577407Z"
    },
    "tags": []
   },
   "outputs": [
    {
     "name": "stderr",
     "output_type": "stream",
     "text": [
      "C:\\Users\\psy62\\.conda\\envs\\Torch_180\\lib\\site-packages\\tqdm\\auto.py:21: TqdmWarning: IProgress not found. Please update jupyter and ipywidgets. See https://ipywidgets.readthedocs.io/en/stable/user_install.html\n",
      "  from .autonotebook import tqdm as notebook_tqdm\n"
     ]
    },
    {
     "ename": "ImportError",
     "evalue": "cannot import name 'RRef' from 'torch.distributed.rpc' (C:\\Users\\psy62\\.conda\\envs\\Torch_180\\lib\\site-packages\\torch\\distributed\\rpc\\__init__.py)",
     "output_type": "error",
     "traceback": [
      "\u001b[1;31m---------------------------------------------------------------------------\u001b[0m",
      "\u001b[1;31mImportError\u001b[0m                               Traceback (most recent call last)",
      "Cell \u001b[1;32mIn[1], line 1\u001b[0m\n\u001b[1;32m----> 1\u001b[0m \u001b[38;5;28;01mfrom\u001b[39;00m \u001b[38;5;21;01mtorch\u001b[39;00m\u001b[38;5;21;01m.\u001b[39;00m\u001b[38;5;21;01mdistributed\u001b[39;00m\u001b[38;5;21;01m.\u001b[39;00m\u001b[38;5;21;01mrpc\u001b[39;00m \u001b[38;5;28;01mimport\u001b[39;00m RRef\n",
      "\u001b[1;31mImportError\u001b[0m: cannot import name 'RRef' from 'torch.distributed.rpc' (C:\\Users\\psy62\\.conda\\envs\\Torch_180\\lib\\site-packages\\torch\\distributed\\rpc\\__init__.py)"
     ]
    }
   ],
   "source": [
    "from torch.distributed.rpc import RRef"
   ]
  }
 ],
 "metadata": {
  "kernelspec": {
   "display_name": "Torch_180",
   "language": "python",
   "name": "torch_180"
  },
  "language_info": {
   "codemirror_mode": {
    "name": "ipython",
    "version": 3
   },
   "file_extension": ".py",
   "mimetype": "text/x-python",
   "name": "python",
   "nbconvert_exporter": "python",
   "pygments_lexer": "ipython3",
   "version": "3.9.18"
  }
 },
 "nbformat": 4,
 "nbformat_minor": 5
}
